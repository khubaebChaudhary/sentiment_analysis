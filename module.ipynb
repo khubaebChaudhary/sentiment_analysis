{
 "cells": [
  {
   "cell_type": "code",
   "execution_count": 3,
   "metadata": {},
   "outputs": [],
   "source": [
    "#importing libraries\n",
    "import numpy as np\n",
    "import pandas as pd\n",
    "import matplotlib.pyplot as plt\n",
    "import seaborn as sns\n",
    "\n",
    "plt.style.use('ggplot')\n",
    "\n",
    "import nltk\n"
   ]
  },
  {
   "cell_type": "code",
   "execution_count": 4,
   "metadata": {},
   "outputs": [],
   "source": [
    "#Reading data\n",
    "df= pd.read_csv('postings.csv')"
   ]
  },
  {
   "cell_type": "code",
   "execution_count": 5,
   "metadata": {},
   "outputs": [
    {
     "data": {
      "text/html": [
       "<div>\n",
       "<style scoped>\n",
       "    .dataframe tbody tr th:only-of-type {\n",
       "        vertical-align: middle;\n",
       "    }\n",
       "\n",
       "    .dataframe tbody tr th {\n",
       "        vertical-align: top;\n",
       "    }\n",
       "\n",
       "    .dataframe thead th {\n",
       "        text-align: right;\n",
       "    }\n",
       "</style>\n",
       "<table border=\"1\" class=\"dataframe\">\n",
       "  <thead>\n",
       "    <tr style=\"text-align: right;\">\n",
       "      <th></th>\n",
       "      <th>job_id</th>\n",
       "      <th>company_name</th>\n",
       "      <th>title</th>\n",
       "      <th>description</th>\n",
       "      <th>max_salary</th>\n",
       "      <th>pay_period</th>\n",
       "      <th>location</th>\n",
       "      <th>company_id</th>\n",
       "      <th>views</th>\n",
       "      <th>med_salary</th>\n",
       "      <th>...</th>\n",
       "      <th>skills_desc</th>\n",
       "      <th>listed_time</th>\n",
       "      <th>posting_domain</th>\n",
       "      <th>sponsored</th>\n",
       "      <th>work_type</th>\n",
       "      <th>currency</th>\n",
       "      <th>compensation_type</th>\n",
       "      <th>normalized_salary</th>\n",
       "      <th>zip_code</th>\n",
       "      <th>fips</th>\n",
       "    </tr>\n",
       "  </thead>\n",
       "  <tbody>\n",
       "    <tr>\n",
       "      <th>0</th>\n",
       "      <td>921716</td>\n",
       "      <td>Corcoran Sawyer Smith</td>\n",
       "      <td>Marketing Coordinator</td>\n",
       "      <td>Job descriptionA leading real estate firm in N...</td>\n",
       "      <td>20.0</td>\n",
       "      <td>HOURLY</td>\n",
       "      <td>Princeton, NJ</td>\n",
       "      <td>2774458.0</td>\n",
       "      <td>20.0</td>\n",
       "      <td>NaN</td>\n",
       "      <td>...</td>\n",
       "      <td>Requirements: \\n\\nWe are seeking a College or ...</td>\n",
       "      <td>1.713398e+12</td>\n",
       "      <td>NaN</td>\n",
       "      <td>0</td>\n",
       "      <td>FULL_TIME</td>\n",
       "      <td>USD</td>\n",
       "      <td>BASE_SALARY</td>\n",
       "      <td>38480.0</td>\n",
       "      <td>8540.0</td>\n",
       "      <td>34021.0</td>\n",
       "    </tr>\n",
       "    <tr>\n",
       "      <th>1</th>\n",
       "      <td>1829192</td>\n",
       "      <td>NaN</td>\n",
       "      <td>Mental Health Therapist/Counselor</td>\n",
       "      <td>At Aspen Therapy and Wellness , we are committ...</td>\n",
       "      <td>50.0</td>\n",
       "      <td>HOURLY</td>\n",
       "      <td>Fort Collins, CO</td>\n",
       "      <td>NaN</td>\n",
       "      <td>1.0</td>\n",
       "      <td>NaN</td>\n",
       "      <td>...</td>\n",
       "      <td>NaN</td>\n",
       "      <td>1.712858e+12</td>\n",
       "      <td>NaN</td>\n",
       "      <td>0</td>\n",
       "      <td>FULL_TIME</td>\n",
       "      <td>USD</td>\n",
       "      <td>BASE_SALARY</td>\n",
       "      <td>83200.0</td>\n",
       "      <td>80521.0</td>\n",
       "      <td>8069.0</td>\n",
       "    </tr>\n",
       "    <tr>\n",
       "      <th>2</th>\n",
       "      <td>10998357</td>\n",
       "      <td>The National Exemplar</td>\n",
       "      <td>Assitant Restaurant Manager</td>\n",
       "      <td>The National Exemplar is accepting application...</td>\n",
       "      <td>65000.0</td>\n",
       "      <td>YEARLY</td>\n",
       "      <td>Cincinnati, OH</td>\n",
       "      <td>64896719.0</td>\n",
       "      <td>8.0</td>\n",
       "      <td>NaN</td>\n",
       "      <td>...</td>\n",
       "      <td>We are currently accepting resumes for FOH - A...</td>\n",
       "      <td>1.713278e+12</td>\n",
       "      <td>NaN</td>\n",
       "      <td>0</td>\n",
       "      <td>FULL_TIME</td>\n",
       "      <td>USD</td>\n",
       "      <td>BASE_SALARY</td>\n",
       "      <td>55000.0</td>\n",
       "      <td>45202.0</td>\n",
       "      <td>39061.0</td>\n",
       "    </tr>\n",
       "    <tr>\n",
       "      <th>3</th>\n",
       "      <td>23221523</td>\n",
       "      <td>Abrams Fensterman, LLP</td>\n",
       "      <td>Senior Elder Law / Trusts and Estates Associat...</td>\n",
       "      <td>Senior Associate Attorney - Elder Law / Trusts...</td>\n",
       "      <td>175000.0</td>\n",
       "      <td>YEARLY</td>\n",
       "      <td>New Hyde Park, NY</td>\n",
       "      <td>766262.0</td>\n",
       "      <td>16.0</td>\n",
       "      <td>NaN</td>\n",
       "      <td>...</td>\n",
       "      <td>This position requires a baseline understandin...</td>\n",
       "      <td>1.712896e+12</td>\n",
       "      <td>NaN</td>\n",
       "      <td>0</td>\n",
       "      <td>FULL_TIME</td>\n",
       "      <td>USD</td>\n",
       "      <td>BASE_SALARY</td>\n",
       "      <td>157500.0</td>\n",
       "      <td>11040.0</td>\n",
       "      <td>36059.0</td>\n",
       "    </tr>\n",
       "    <tr>\n",
       "      <th>4</th>\n",
       "      <td>35982263</td>\n",
       "      <td>NaN</td>\n",
       "      <td>Service Technician</td>\n",
       "      <td>Looking for HVAC service tech with experience ...</td>\n",
       "      <td>80000.0</td>\n",
       "      <td>YEARLY</td>\n",
       "      <td>Burlington, IA</td>\n",
       "      <td>NaN</td>\n",
       "      <td>3.0</td>\n",
       "      <td>NaN</td>\n",
       "      <td>...</td>\n",
       "      <td>NaN</td>\n",
       "      <td>1.713452e+12</td>\n",
       "      <td>NaN</td>\n",
       "      <td>0</td>\n",
       "      <td>FULL_TIME</td>\n",
       "      <td>USD</td>\n",
       "      <td>BASE_SALARY</td>\n",
       "      <td>70000.0</td>\n",
       "      <td>52601.0</td>\n",
       "      <td>19057.0</td>\n",
       "    </tr>\n",
       "  </tbody>\n",
       "</table>\n",
       "<p>5 rows × 31 columns</p>\n",
       "</div>"
      ],
      "text/plain": [
       "     job_id            company_name  \\\n",
       "0    921716   Corcoran Sawyer Smith   \n",
       "1   1829192                     NaN   \n",
       "2  10998357  The National Exemplar    \n",
       "3  23221523  Abrams Fensterman, LLP   \n",
       "4  35982263                     NaN   \n",
       "\n",
       "                                               title  \\\n",
       "0                              Marketing Coordinator   \n",
       "1                  Mental Health Therapist/Counselor   \n",
       "2                        Assitant Restaurant Manager   \n",
       "3  Senior Elder Law / Trusts and Estates Associat...   \n",
       "4                                 Service Technician   \n",
       "\n",
       "                                         description  max_salary pay_period  \\\n",
       "0  Job descriptionA leading real estate firm in N...        20.0     HOURLY   \n",
       "1  At Aspen Therapy and Wellness , we are committ...        50.0     HOURLY   \n",
       "2  The National Exemplar is accepting application...     65000.0     YEARLY   \n",
       "3  Senior Associate Attorney - Elder Law / Trusts...    175000.0     YEARLY   \n",
       "4  Looking for HVAC service tech with experience ...     80000.0     YEARLY   \n",
       "\n",
       "            location  company_id  views  med_salary  ...  \\\n",
       "0      Princeton, NJ   2774458.0   20.0         NaN  ...   \n",
       "1   Fort Collins, CO         NaN    1.0         NaN  ...   \n",
       "2     Cincinnati, OH  64896719.0    8.0         NaN  ...   \n",
       "3  New Hyde Park, NY    766262.0   16.0         NaN  ...   \n",
       "4     Burlington, IA         NaN    3.0         NaN  ...   \n",
       "\n",
       "                                         skills_desc   listed_time  \\\n",
       "0  Requirements: \\n\\nWe are seeking a College or ...  1.713398e+12   \n",
       "1                                                NaN  1.712858e+12   \n",
       "2  We are currently accepting resumes for FOH - A...  1.713278e+12   \n",
       "3  This position requires a baseline understandin...  1.712896e+12   \n",
       "4                                                NaN  1.713452e+12   \n",
       "\n",
       "   posting_domain  sponsored  work_type currency compensation_type  \\\n",
       "0             NaN          0  FULL_TIME      USD       BASE_SALARY   \n",
       "1             NaN          0  FULL_TIME      USD       BASE_SALARY   \n",
       "2             NaN          0  FULL_TIME      USD       BASE_SALARY   \n",
       "3             NaN          0  FULL_TIME      USD       BASE_SALARY   \n",
       "4             NaN          0  FULL_TIME      USD       BASE_SALARY   \n",
       "\n",
       "  normalized_salary  zip_code     fips  \n",
       "0           38480.0    8540.0  34021.0  \n",
       "1           83200.0   80521.0   8069.0  \n",
       "2           55000.0   45202.0  39061.0  \n",
       "3          157500.0   11040.0  36059.0  \n",
       "4           70000.0   52601.0  19057.0  \n",
       "\n",
       "[5 rows x 31 columns]"
      ]
     },
     "execution_count": 5,
     "metadata": {},
     "output_type": "execute_result"
    }
   ],
   "source": [
    "df.head()"
   ]
  },
  {
   "cell_type": "code",
   "execution_count": 6,
   "metadata": {},
   "outputs": [
    {
     "data": {
      "text/html": [
       "<div>\n",
       "<style scoped>\n",
       "    .dataframe tbody tr th:only-of-type {\n",
       "        vertical-align: middle;\n",
       "    }\n",
       "\n",
       "    .dataframe tbody tr th {\n",
       "        vertical-align: top;\n",
       "    }\n",
       "\n",
       "    .dataframe thead th {\n",
       "        text-align: right;\n",
       "    }\n",
       "</style>\n",
       "<table border=\"1\" class=\"dataframe\">\n",
       "  <thead>\n",
       "    <tr style=\"text-align: right;\">\n",
       "      <th></th>\n",
       "      <th>job_id</th>\n",
       "      <th>company_name</th>\n",
       "      <th>title</th>\n",
       "      <th>description</th>\n",
       "      <th>max_salary</th>\n",
       "      <th>pay_period</th>\n",
       "      <th>location</th>\n",
       "      <th>company_id</th>\n",
       "      <th>views</th>\n",
       "      <th>med_salary</th>\n",
       "      <th>...</th>\n",
       "      <th>skills_desc</th>\n",
       "      <th>listed_time</th>\n",
       "      <th>posting_domain</th>\n",
       "      <th>sponsored</th>\n",
       "      <th>work_type</th>\n",
       "      <th>currency</th>\n",
       "      <th>compensation_type</th>\n",
       "      <th>normalized_salary</th>\n",
       "      <th>zip_code</th>\n",
       "      <th>fips</th>\n",
       "    </tr>\n",
       "  </thead>\n",
       "  <tbody>\n",
       "    <tr>\n",
       "      <th>123844</th>\n",
       "      <td>3906267117</td>\n",
       "      <td>Lozano Smith</td>\n",
       "      <td>Title IX/Investigations Attorney</td>\n",
       "      <td>Our Walnut Creek office is currently seeking a...</td>\n",
       "      <td>195000.0</td>\n",
       "      <td>YEARLY</td>\n",
       "      <td>Walnut Creek, CA</td>\n",
       "      <td>56120.0</td>\n",
       "      <td>1.0</td>\n",
       "      <td>NaN</td>\n",
       "      <td>...</td>\n",
       "      <td>NaN</td>\n",
       "      <td>1.713571e+12</td>\n",
       "      <td>NaN</td>\n",
       "      <td>0</td>\n",
       "      <td>FULL_TIME</td>\n",
       "      <td>USD</td>\n",
       "      <td>BASE_SALARY</td>\n",
       "      <td>157500.0</td>\n",
       "      <td>94595.0</td>\n",
       "      <td>6013.0</td>\n",
       "    </tr>\n",
       "    <tr>\n",
       "      <th>123845</th>\n",
       "      <td>3906267126</td>\n",
       "      <td>Pinterest</td>\n",
       "      <td>Staff Software Engineer, ML Serving Platform</td>\n",
       "      <td>About Pinterest:\\n\\nMillions of people across ...</td>\n",
       "      <td>NaN</td>\n",
       "      <td>NaN</td>\n",
       "      <td>United States</td>\n",
       "      <td>1124131.0</td>\n",
       "      <td>3.0</td>\n",
       "      <td>NaN</td>\n",
       "      <td>...</td>\n",
       "      <td>NaN</td>\n",
       "      <td>1.713572e+12</td>\n",
       "      <td>www.pinterestcareers.com</td>\n",
       "      <td>0</td>\n",
       "      <td>FULL_TIME</td>\n",
       "      <td>NaN</td>\n",
       "      <td>NaN</td>\n",
       "      <td>NaN</td>\n",
       "      <td>NaN</td>\n",
       "      <td>NaN</td>\n",
       "    </tr>\n",
       "    <tr>\n",
       "      <th>123846</th>\n",
       "      <td>3906267131</td>\n",
       "      <td>EPS Learning</td>\n",
       "      <td>Account Executive, Oregon/Washington</td>\n",
       "      <td>Company Overview\\n\\nEPS Learning is a leading ...</td>\n",
       "      <td>NaN</td>\n",
       "      <td>NaN</td>\n",
       "      <td>Spokane, WA</td>\n",
       "      <td>90552133.0</td>\n",
       "      <td>3.0</td>\n",
       "      <td>NaN</td>\n",
       "      <td>...</td>\n",
       "      <td>NaN</td>\n",
       "      <td>1.713572e+12</td>\n",
       "      <td>epsoperations.bamboohr.com</td>\n",
       "      <td>0</td>\n",
       "      <td>FULL_TIME</td>\n",
       "      <td>NaN</td>\n",
       "      <td>NaN</td>\n",
       "      <td>NaN</td>\n",
       "      <td>99201.0</td>\n",
       "      <td>53063.0</td>\n",
       "    </tr>\n",
       "    <tr>\n",
       "      <th>123847</th>\n",
       "      <td>3906267195</td>\n",
       "      <td>Trelleborg Applied Technologies</td>\n",
       "      <td>Business Development Manager</td>\n",
       "      <td>The Business Development Manager is a 'hunter'...</td>\n",
       "      <td>NaN</td>\n",
       "      <td>NaN</td>\n",
       "      <td>Texas, United States</td>\n",
       "      <td>2793699.0</td>\n",
       "      <td>4.0</td>\n",
       "      <td>NaN</td>\n",
       "      <td>...</td>\n",
       "      <td>NaN</td>\n",
       "      <td>1.713573e+12</td>\n",
       "      <td>NaN</td>\n",
       "      <td>0</td>\n",
       "      <td>FULL_TIME</td>\n",
       "      <td>NaN</td>\n",
       "      <td>NaN</td>\n",
       "      <td>NaN</td>\n",
       "      <td>NaN</td>\n",
       "      <td>NaN</td>\n",
       "    </tr>\n",
       "    <tr>\n",
       "      <th>123848</th>\n",
       "      <td>3906267224</td>\n",
       "      <td>Solugenix</td>\n",
       "      <td>Marketing Social Media Specialist</td>\n",
       "      <td>Marketing Social Media Specialist - $70k – $75...</td>\n",
       "      <td>75000.0</td>\n",
       "      <td>YEARLY</td>\n",
       "      <td>San Juan Capistrano, CA</td>\n",
       "      <td>43325.0</td>\n",
       "      <td>2.0</td>\n",
       "      <td>NaN</td>\n",
       "      <td>...</td>\n",
       "      <td>NaN</td>\n",
       "      <td>1.713573e+12</td>\n",
       "      <td>NaN</td>\n",
       "      <td>0</td>\n",
       "      <td>FULL_TIME</td>\n",
       "      <td>USD</td>\n",
       "      <td>BASE_SALARY</td>\n",
       "      <td>72500.0</td>\n",
       "      <td>92675.0</td>\n",
       "      <td>6059.0</td>\n",
       "    </tr>\n",
       "  </tbody>\n",
       "</table>\n",
       "<p>5 rows × 31 columns</p>\n",
       "</div>"
      ],
      "text/plain": [
       "            job_id                     company_name  \\\n",
       "123844  3906267117                     Lozano Smith   \n",
       "123845  3906267126                        Pinterest   \n",
       "123846  3906267131                     EPS Learning   \n",
       "123847  3906267195  Trelleborg Applied Technologies   \n",
       "123848  3906267224                        Solugenix   \n",
       "\n",
       "                                               title  \\\n",
       "123844              Title IX/Investigations Attorney   \n",
       "123845  Staff Software Engineer, ML Serving Platform   \n",
       "123846          Account Executive, Oregon/Washington   \n",
       "123847                  Business Development Manager   \n",
       "123848             Marketing Social Media Specialist   \n",
       "\n",
       "                                              description  max_salary  \\\n",
       "123844  Our Walnut Creek office is currently seeking a...    195000.0   \n",
       "123845  About Pinterest:\\n\\nMillions of people across ...         NaN   \n",
       "123846  Company Overview\\n\\nEPS Learning is a leading ...         NaN   \n",
       "123847  The Business Development Manager is a 'hunter'...         NaN   \n",
       "123848  Marketing Social Media Specialist - $70k – $75...     75000.0   \n",
       "\n",
       "       pay_period                 location  company_id  views  med_salary  \\\n",
       "123844     YEARLY         Walnut Creek, CA     56120.0    1.0         NaN   \n",
       "123845        NaN            United States   1124131.0    3.0         NaN   \n",
       "123846        NaN              Spokane, WA  90552133.0    3.0         NaN   \n",
       "123847        NaN     Texas, United States   2793699.0    4.0         NaN   \n",
       "123848     YEARLY  San Juan Capistrano, CA     43325.0    2.0         NaN   \n",
       "\n",
       "        ...  skills_desc   listed_time              posting_domain  sponsored  \\\n",
       "123844  ...          NaN  1.713571e+12                         NaN          0   \n",
       "123845  ...          NaN  1.713572e+12    www.pinterestcareers.com          0   \n",
       "123846  ...          NaN  1.713572e+12  epsoperations.bamboohr.com          0   \n",
       "123847  ...          NaN  1.713573e+12                         NaN          0   \n",
       "123848  ...          NaN  1.713573e+12                         NaN          0   \n",
       "\n",
       "        work_type currency compensation_type normalized_salary  zip_code  \\\n",
       "123844  FULL_TIME      USD       BASE_SALARY          157500.0   94595.0   \n",
       "123845  FULL_TIME      NaN               NaN               NaN       NaN   \n",
       "123846  FULL_TIME      NaN               NaN               NaN   99201.0   \n",
       "123847  FULL_TIME      NaN               NaN               NaN       NaN   \n",
       "123848  FULL_TIME      USD       BASE_SALARY           72500.0   92675.0   \n",
       "\n",
       "           fips  \n",
       "123844   6013.0  \n",
       "123845      NaN  \n",
       "123846  53063.0  \n",
       "123847      NaN  \n",
       "123848   6059.0  \n",
       "\n",
       "[5 rows x 31 columns]"
      ]
     },
     "execution_count": 6,
     "metadata": {},
     "output_type": "execute_result"
    }
   ],
   "source": [
    "df.tail()"
   ]
  },
  {
   "cell_type": "code",
   "execution_count": 10,
   "metadata": {},
   "outputs": [
    {
     "name": "stdout",
     "output_type": "stream",
     "text": [
      "(123849, 31)\n"
     ]
    }
   ],
   "source": [
    "print(df.shape)"
   ]
  },
  {
   "cell_type": "code",
   "execution_count": 12,
   "metadata": {},
   "outputs": [],
   "source": [
    "columns_to_drop = [\n",
    "    \"job_id\", \"company_name\", \"company_id\", \"views\", \"applies\", \"original_listed_time\",\n",
    "    \"job_posting_url\", \"application_url\", \"application_type\", \"expiry\", \"closed_time\",\n",
    "    \"listed_time\", \"posting_domain\", \"sponsored\", \"work_type\", \"zip_code\", \"fips\"\n",
    "]"
   ]
  },
  {
   "cell_type": "code",
   "execution_count": null,
   "metadata": {},
   "outputs": [],
   "source": [
    "df_cleaned = df.drop(columns=columns_to_drop)"
   ]
  },
  {
   "cell_type": "code",
   "execution_count": 22,
   "metadata": {},
   "outputs": [
    {
     "data": {
      "text/plain": [
       "pandas.core.frame.DataFrame"
      ]
     },
     "execution_count": 22,
     "metadata": {},
     "output_type": "execute_result"
    }
   ],
   "source": [
    "type(df_cleaned)"
   ]
  },
  {
   "cell_type": "code",
   "execution_count": 20,
   "metadata": {},
   "outputs": [
    {
     "name": "stdout",
     "output_type": "stream",
     "text": [
      "                                               title  \\\n",
      "0                              Marketing Coordinator   \n",
      "1                  Mental Health Therapist/Counselor   \n",
      "2                        Assitant Restaurant Manager   \n",
      "3  Senior Elder Law / Trusts and Estates Associat...   \n",
      "4                                 Service Technician   \n",
      "\n",
      "                                         description  max_salary pay_period  \\\n",
      "0  Job descriptionA leading real estate firm in N...        20.0     HOURLY   \n",
      "1  At Aspen Therapy and Wellness , we are committ...        50.0     HOURLY   \n",
      "2  The National Exemplar is accepting application...     65000.0     YEARLY   \n",
      "3  Senior Associate Attorney - Elder Law / Trusts...    175000.0     YEARLY   \n",
      "4  Looking for HVAC service tech with experience ...     80000.0     YEARLY   \n",
      "\n",
      "            location  med_salary  min_salary formatted_work_type  \\\n",
      "0      Princeton, NJ         NaN        17.0           Full-time   \n",
      "1   Fort Collins, CO         NaN        30.0           Full-time   \n",
      "2     Cincinnati, OH         NaN     45000.0           Full-time   \n",
      "3  New Hyde Park, NY         NaN    140000.0           Full-time   \n",
      "4     Burlington, IA         NaN     60000.0           Full-time   \n",
      "\n",
      "   remote_allowed formatted_experience_level  \\\n",
      "0             NaN                        NaN   \n",
      "1             NaN                        NaN   \n",
      "2             NaN                        NaN   \n",
      "3             NaN                        NaN   \n",
      "4             NaN                        NaN   \n",
      "\n",
      "                                         skills_desc currency  \\\n",
      "0  Requirements: \\n\\nWe are seeking a College or ...      USD   \n",
      "1                                                NaN      USD   \n",
      "2  We are currently accepting resumes for FOH - A...      USD   \n",
      "3  This position requires a baseline understandin...      USD   \n",
      "4                                                NaN      USD   \n",
      "\n",
      "  compensation_type  normalized_salary  \n",
      "0       BASE_SALARY            38480.0  \n",
      "1       BASE_SALARY            83200.0  \n",
      "2       BASE_SALARY            55000.0  \n",
      "3       BASE_SALARY           157500.0  \n",
      "4       BASE_SALARY            70000.0  \n"
     ]
    }
   ],
   "source": [
    "print(df_cleaned.head()) \n"
   ]
  },
  {
   "cell_type": "code",
   "execution_count": null,
   "metadata": {},
   "outputs": [
    {
     "name": "stdout",
     "output_type": "stream",
     "text": [
      "                                               title  \\\n",
      "0                              Marketing Coordinator   \n",
      "1                  Mental Health Therapist/Counselor   \n",
      "2                        Assitant Restaurant Manager   \n",
      "3  Senior Elder Law / Trusts and Estates Associat...   \n",
      "4                                 Service Technician   \n",
      "\n",
      "                                         description  max_salary pay_period  \\\n",
      "0  Job descriptionA leading real estate firm in N...        20.0     HOURLY   \n",
      "1  At Aspen Therapy and Wellness , we are committ...        50.0     HOURLY   \n",
      "2  The National Exemplar is accepting application...     65000.0     YEARLY   \n",
      "3  Senior Associate Attorney - Elder Law / Trusts...    175000.0     YEARLY   \n",
      "4  Looking for HVAC service tech with experience ...     80000.0     YEARLY   \n",
      "\n",
      "            location  med_salary  min_salary formatted_work_type  \\\n",
      "0      Princeton, NJ         NaN        17.0           Full-time   \n",
      "1   Fort Collins, CO         NaN        30.0           Full-time   \n",
      "2     Cincinnati, OH         NaN     45000.0           Full-time   \n",
      "3  New Hyde Park, NY         NaN    140000.0           Full-time   \n",
      "4     Burlington, IA         NaN     60000.0           Full-time   \n",
      "\n",
      "   remote_allowed formatted_experience_level  \\\n",
      "0             NaN                        NaN   \n",
      "1             NaN                        NaN   \n",
      "2             NaN                        NaN   \n",
      "3             NaN                        NaN   \n",
      "4             NaN                        NaN   \n",
      "\n",
      "                                         skills_desc currency  \\\n",
      "0  Requirements: \\n\\nWe are seeking a College or ...      USD   \n",
      "1                                                NaN      USD   \n",
      "2  We are currently accepting resumes for FOH - A...      USD   \n",
      "3  This position requires a baseline understandin...      USD   \n",
      "4                                                NaN      USD   \n",
      "\n",
      "  compensation_type  normalized_salary  \n",
      "0       BASE_SALARY            38480.0  \n",
      "1       BASE_SALARY            83200.0  \n",
      "2       BASE_SALARY            55000.0  \n",
      "3       BASE_SALARY           157500.0  \n",
      "4       BASE_SALARY            70000.0  \n"
     ]
    }
   ],
   "source": [
    "print(df.head())\n"
   ]
  },
  {
   "cell_type": "code",
   "execution_count": null,
   "metadata": {},
   "outputs": [
    {
     "name": "stdout",
     "output_type": "stream",
     "text": [
      "title                          0.000000\n",
      "description                    0.005652\n",
      "max_salary                    75.944093\n",
      "pay_period                    70.873402\n",
      "location                       0.000000\n",
      "med_salary                    94.929309\n",
      "min_salary                    75.944093\n",
      "formatted_work_type            0.000000\n",
      "remote_allowed                87.689848\n",
      "formatted_experience_level    23.745852\n",
      "skills_desc                   98.030666\n",
      "currency                      70.873402\n",
      "compensation_type             70.873402\n",
      "normalized_salary             70.873402\n",
      "dtype: float64\n"
     ]
    }
   ],
   "source": [
    "print(df_cleaned.isnull().sum() / len(df_cleaned) * 100)\n"
   ]
  },
  {
   "cell_type": "code",
   "execution_count": 24,
   "metadata": {},
   "outputs": [],
   "source": [
    "columns_to_drop = ['max_salary', 'pay_period', 'med_salary', 'min_salary', \n",
    "                   'skills_desc', 'currency', 'compensation_type', 'normalized_salary']\n",
    "df_cleaned = df_cleaned.drop(columns=columns_to_drop)"
   ]
  },
  {
   "cell_type": "code",
   "execution_count": 25,
   "metadata": {},
   "outputs": [],
   "source": [
    "df_cleaned = df_cleaned.dropna(subset=['description'])"
   ]
  },
  {
   "cell_type": "code",
   "execution_count": 26,
   "metadata": {},
   "outputs": [
    {
     "name": "stderr",
     "output_type": "stream",
     "text": [
      "C:\\Users\\chaud\\AppData\\Local\\Temp\\ipykernel_11832\\1979533277.py:1: FutureWarning: A value is trying to be set on a copy of a DataFrame or Series through chained assignment using an inplace method.\n",
      "The behavior will change in pandas 3.0. This inplace method will never work because the intermediate object on which we are setting values always behaves as a copy.\n",
      "\n",
      "For example, when doing 'df[col].method(value, inplace=True)', try using 'df.method({col: value}, inplace=True)' or df[col] = df[col].method(value) instead, to perform the operation inplace on the original object.\n",
      "\n",
      "\n",
      "  df_cleaned['remote_allowed'].fillna(\"Unknown\", inplace=True)\n",
      "C:\\Users\\chaud\\AppData\\Local\\Temp\\ipykernel_11832\\1979533277.py:1: FutureWarning: Setting an item of incompatible dtype is deprecated and will raise an error in a future version of pandas. Value 'Unknown' has dtype incompatible with float64, please explicitly cast to a compatible dtype first.\n",
      "  df_cleaned['remote_allowed'].fillna(\"Unknown\", inplace=True)\n",
      "C:\\Users\\chaud\\AppData\\Local\\Temp\\ipykernel_11832\\1979533277.py:2: FutureWarning: A value is trying to be set on a copy of a DataFrame or Series through chained assignment using an inplace method.\n",
      "The behavior will change in pandas 3.0. This inplace method will never work because the intermediate object on which we are setting values always behaves as a copy.\n",
      "\n",
      "For example, when doing 'df[col].method(value, inplace=True)', try using 'df.method({col: value}, inplace=True)' or df[col] = df[col].method(value) instead, to perform the operation inplace on the original object.\n",
      "\n",
      "\n",
      "  df_cleaned['formatted_experience_level'].fillna(\"Unknown\", inplace=True)\n"
     ]
    }
   ],
   "source": [
    "df_cleaned['remote_allowed'].fillna(\"Unknown\", inplace=True)\n",
    "df_cleaned['formatted_experience_level'].fillna(\"Unknown\", inplace=True)"
   ]
  },
  {
   "cell_type": "code",
   "execution_count": null,
   "metadata": {},
   "outputs": [
    {
     "name": "stdout",
     "output_type": "stream",
     "text": [
      "title                         0\n",
      "description                   0\n",
      "location                      0\n",
      "formatted_work_type           0\n",
      "remote_allowed                0\n",
      "formatted_experience_level    0\n",
      "dtype: int64\n",
      "                                               title  \\\n",
      "0                              Marketing Coordinator   \n",
      "1                  Mental Health Therapist/Counselor   \n",
      "2                        Assitant Restaurant Manager   \n",
      "3  Senior Elder Law / Trusts and Estates Associat...   \n",
      "4                                 Service Technician   \n",
      "\n",
      "                                         description           location  \\\n",
      "0  Job descriptionA leading real estate firm in N...      Princeton, NJ   \n",
      "1  At Aspen Therapy and Wellness , we are committ...   Fort Collins, CO   \n",
      "2  The National Exemplar is accepting application...     Cincinnati, OH   \n",
      "3  Senior Associate Attorney - Elder Law / Trusts...  New Hyde Park, NY   \n",
      "4  Looking for HVAC service tech with experience ...     Burlington, IA   \n",
      "\n",
      "  formatted_work_type remote_allowed formatted_experience_level  \n",
      "0           Full-time        Unknown                    Unknown  \n",
      "1           Full-time        Unknown                    Unknown  \n",
      "2           Full-time        Unknown                    Unknown  \n",
      "3           Full-time        Unknown                    Unknown  \n",
      "4           Full-time        Unknown                    Unknown  \n"
     ]
    }
   ],
   "source": [
    "print(df_cleaned.isnull().sum())\n",
    "print(df_cleaned.head())"
   ]
  },
  {
   "cell_type": "code",
   "execution_count": 28,
   "metadata": {},
   "outputs": [],
   "source": [
    "import pandas as pd\n",
    "import re  # For text cleaning\n",
    "from textblob import TextBlob\n",
    "from vaderSentiment.vaderSentiment import SentimentIntensityAnalyzer\n"
   ]
  },
  {
   "cell_type": "code",
   "execution_count": null,
   "metadata": {},
   "outputs": [],
   "source": [
    "def clean_text(text):\n",
    "    text = str(text).lower() #converting to lowercase\n",
    "    text = re.sub(r'\\s+', ' ', text) #replacing multiple spaces with a single space\n",
    "    text = re.sub(r'[^a-zA-Z0-9\\s]', '', text) #removing special characters\n",
    "    return text\n",
    "\n",
    "df_cleaned['cleaned_description'] = df_cleaned['description'].apply(clean_text)\n"
   ]
  },
  {
   "cell_type": "code",
   "execution_count": 30,
   "metadata": {},
   "outputs": [],
   "source": [
    "analyzer = SentimentIntensityAnalyzer()\n",
    "\n",
    "# Function to get sentiment scores\n",
    "def get_sentiment(text):\n",
    "    score = analyzer.polarity_scores(text)\n",
    "    return score['compound']\n",
    "\n",
    "# Apply sentiment analysis\n",
    "df_cleaned['sentiment_score'] = df_cleaned['cleaned_description'].apply(get_sentiment)\n"
   ]
  },
  {
   "cell_type": "code",
   "execution_count": 31,
   "metadata": {},
   "outputs": [],
   "source": [
    "def categorize_sentiment(score):\n",
    "    if score > 0.05:\n",
    "        return \"Positive\"\n",
    "    elif score < -0.05:\n",
    "        return \"Negative\"\n",
    "    else:\n",
    "        return \"Neutral\"\n",
    "\n",
    "df_cleaned['sentiment_label'] = df_cleaned['sentiment_score'].apply(categorize_sentiment)\n"
   ]
  },
  {
   "cell_type": "code",
   "execution_count": 32,
   "metadata": {},
   "outputs": [
    {
     "name": "stdout",
     "output_type": "stream",
     "text": [
      "                                               title  \\\n",
      "0                              Marketing Coordinator   \n",
      "1                  Mental Health Therapist/Counselor   \n",
      "2                        Assitant Restaurant Manager   \n",
      "3  Senior Elder Law / Trusts and Estates Associat...   \n",
      "4                                 Service Technician   \n",
      "5           Economic Development and Planning Intern   \n",
      "6                                           Producer   \n",
      "7                                  Building Engineer   \n",
      "8                              Respiratory Therapist   \n",
      "9                                     Worship Leader   \n",
      "\n",
      "                                         description  sentiment_score  \\\n",
      "0  Job descriptionA leading real estate firm in N...           0.9924   \n",
      "1  At Aspen Therapy and Wellness , we are committ...           0.9973   \n",
      "2  The National Exemplar is accepting application...           0.9716   \n",
      "3  Senior Associate Attorney - Elder Law / Trusts...           0.9911   \n",
      "4  Looking for HVAC service tech with experience ...           0.0000   \n",
      "5  Job summary:The Economic Development & Plannin...           0.9944   \n",
      "6  Company DescriptionRaw Cereal is a creative de...           0.9260   \n",
      "7  Summary: Due to the pending retirement of our ...           0.9961   \n",
      "8  At Children’s, the region’s only full-service ...           0.9990   \n",
      "9  It is an exciting time to be a part of our chu...           0.9967   \n",
      "\n",
      "  sentiment_label  \n",
      "0        Positive  \n",
      "1        Positive  \n",
      "2        Positive  \n",
      "3        Positive  \n",
      "4         Neutral  \n",
      "5        Positive  \n",
      "6        Positive  \n",
      "7        Positive  \n",
      "8        Positive  \n",
      "9        Positive  \n"
     ]
    }
   ],
   "source": [
    "print(df_cleaned[['title', 'description', 'sentiment_score', 'sentiment_label']].head(10))\n"
   ]
  },
  {
   "cell_type": "code",
   "execution_count": 33,
   "metadata": {},
   "outputs": [
    {
     "name": "stdout",
     "output_type": "stream",
     "text": [
      "sentiment_label\n",
      "Positive    122531\n",
      "Negative       819\n",
      "Neutral        492\n",
      "Name: count, dtype: int64\n"
     ]
    }
   ],
   "source": [
    "sentiment_counts = df_cleaned['sentiment_label'].value_counts()\n",
    "print(sentiment_counts)  # Check the count of each sentiment category\n"
   ]
  },
  {
   "cell_type": "code",
   "execution_count": 35,
   "metadata": {},
   "outputs": [
    {
     "name": "stderr",
     "output_type": "stream",
     "text": [
      "C:\\Users\\chaud\\AppData\\Local\\Temp\\ipykernel_11832\\3946916327.py:3: FutureWarning: \n",
      "\n",
      "Passing `palette` without assigning `hue` is deprecated and will be removed in v0.14.0. Assign the `x` variable to `hue` and set `legend=False` for the same effect.\n",
      "\n",
      "  sns.barplot(x=sentiment_counts.index, y=sentiment_counts.values, palette=['green', 'red', 'gray'])\n"
     ]
    },
    {
     "data": {
      "image/png": "[encoded data removed]",
      "text/plain": [
       "<Figure size 800x500 with 1 Axes>"
      ]
     },
     "metadata": {},
     "output_type": "display_data"
    }
   ],
   "source": [
    "# Plot Bar Chart\n",
    "plt.figure(figsize=(8, 5))\n",
    "sns.barplot(x=sentiment_counts.index, y=sentiment_counts.values, palette=['green', 'red', 'gray'])\n",
    "\n",
    "# Customize the plot\n",
    "plt.xlabel(\"Sentiment\", fontsize=12)\n",
    "plt.ylabel(\"Number of Job Descriptions\", fontsize=12)\n",
    "plt.title(\"Count of Sentiment Categories\", fontsize=14)\n",
    "plt.show()\n"
   ]
  },
  {
   "cell_type": "code",
   "execution_count": 36,
   "metadata": {},
   "outputs": [],
   "source": [
    "def categorize_job(title):\n",
    "    title = str(title).lower()\n",
    "    if any(word in title for word in ['software', 'developer', 'engineer', 'data', 'it']):\n",
    "        return 'IT'\n",
    "    elif any(word in title for word in ['nurse', 'healthcare', 'doctor', 'therapist']):\n",
    "        return 'Healthcare'\n",
    "    elif any(word in title for word in ['finance', 'accountant', 'banking']):\n",
    "        return 'Finance'\n",
    "    elif any(word in title for word in ['marketing', 'social media', 'seo']):\n",
    "        return 'Marketing'\n",
    "    elif any(word in title for word in ['sales', 'business development']):\n",
    "        return 'Sales'\n",
    "    else:\n",
    "        return 'Other'\n",
    "\n",
    "df_cleaned['job_category'] = df_cleaned['title'].apply(categorize_job)\n"
   ]
  },
  {
   "cell_type": "code",
   "execution_count": 37,
   "metadata": {},
   "outputs": [
    {
     "name": "stdout",
     "output_type": "stream",
     "text": [
      "sentiment_label  Negative  Neutral  Positive\n",
      "job_category                                \n",
      "Finance                 5        6      2018\n",
      "Healthcare             36        7      5740\n",
      "IT                    123      160     30594\n",
      "Marketing               1        3      1897\n",
      "Other                 647      300     74013\n",
      "Sales                   7       16      8269\n"
     ]
    }
   ],
   "source": [
    "sentiment_by_category = df_cleaned.groupby(['job_category', 'sentiment_label']).size().unstack().fillna(0)\n",
    "print(sentiment_by_category)  # Check data before visualization\n"
   ]
  },
  {
   "cell_type": "code",
   "execution_count": null,
   "metadata": {},
   "outputs": [
    {
     "data": {
      "image/png": "[encoded data removed]",
      "text/plain": [
       "<Figure size 1000x500 with 1 Axes>"
      ]
     },
     "metadata": {},
     "output_type": "display_data"
    }
   ],
   "source": [
    "# Plot grouped bar chart\n",
    "sentiment_by_category.plot(kind='bar', figsize=(10, 5), colormap='spring')\n",
    "\n",
    "# Customize plot\n",
    "plt.xlabel(\"Job Category\", fontsize=12)\n",
    "plt.ylabel(\"Number of Job Descriptions\", fontsize=12)\n",
    "plt.title(\"Sentiment Analysis by Job Category\", fontsize=14)\n",
    "plt.xticks(rotation=0)\n",
    "plt.legend(title=\"Sentiment\", labels=['Negative', 'Neutral', 'Positive'])\n",
    "plt.show()"
   ]
  },
  {
   "cell_type": "code",
   "execution_count": null,
   "metadata": {},
   "outputs": [
    {
     "data": {
      "image/png": "[encoded data removed]",
      "text/plain": [
       "<Figure size 800x500 with 2 Axes>"
      ]
     },
     "metadata": {},
     "output_type": "display_data"
    }
   ],
   "source": [
    "# grouping by category and calculating total no of job description in each category then converting raw counts to percentage\n",
    "sentiment_percentage = sentiment_by_category.div(sentiment_by_category.sum(axis=1), axis=0)\n",
    "\n",
    "plt.figure(figsize=(8, 5))\n",
    "sns.heatmap(sentiment_percentage, annot=True, cmap='coolwarm', fmt=\".2f\")\n",
    "\n",
    "# Customize plot\n",
    "plt.xlabel(\"Sentiment\", fontsize=12)\n",
    "plt.ylabel(\"Job Category\", fontsize=12)\n",
    "plt.title(\"Sentiment Heatmap by Job Category\", fontsize=14)\n",
    "plt.show()"
   ]
  },
  {
   "cell_type": "code",
   "execution_count": null,
   "metadata": {},
   "outputs": [],
   "source": []
  }
 ],
 "metadata": {
  "kernelspec": {
   "display_name": "Python 3",
   "language": "python",
   "name": "python3"
  },
  "language_info": {
   "codemirror_mode": {
    "name": "ipython",
    "version": 3
   },
   "file_extension": ".py",
   "mimetype": "text/x-python",
   "name": "python",
   "nbconvert_exporter": "python",
   "pygments_lexer": "ipython3",
   "version": "3.11.0"
  }
 },
 "nbformat": 4,
 "nbformat_minor": 2
}
